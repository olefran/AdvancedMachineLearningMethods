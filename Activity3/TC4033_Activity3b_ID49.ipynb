{
 "cells": [
  {
   "cell_type": "markdown",
   "id": "940c6dbc",
   "metadata": {
    "id": "940c6dbc"
   },
   "source": [
    "## TC 5033\n",
    "### Word Embeddings\n",
    "\n",
    "Emmanuel Francisco González Velázquez - A01364577\n",
    "\n",
    "Oscar Israel Lerma Franco - A01380817\n",
    "\n",
    "Jesús Mario Martínez Díaz - A01740049\n",
    "\n",
    "Eduardo Selim Martínez Mayorga - A01795167\n",
    "\n",
    "José Antonio Hernández Hernández - A01381334\n",
    "\n",
    "<br>\n",
    "\n",
    "#### Activity 3b: Text Classification using RNNs and AG_NEWS dataset in PyTorch\n",
    "<br>\n",
    "\n",
    "- Objective:\n",
    "    - Understand the basics of Recurrent Neural Networks (RNNs) and their application in text classification.\n",
    "    - Learn how to handle a real-world text dataset, AG_NEWS, in PyTorch.\n",
    "    - Gain hands-on experience in defining, training, and evaluating a text classification model in PyTorch.\n",
    "    \n",
    "<br>\n",
    "\n",
    "- Instructions:\n",
    "    - Data Preparation: Starter code will be provided that loads the AG_NEWS dataset and prepares it for training. Do not modify this part. However, you should be sure to understand it, and comment it, the use of markdown cells is suggested.\n",
    "\n",
    "    - Model Setup: A skeleton code for the RNN model class will be provided. Complete this class and use it to instantiate your model.\n",
    "\n",
    "    - Implementing Accuracy Function: Write a function that takes model predictions and ground truth labels as input and returns the model's accuracy.\n",
    "\n",
    "    - Training Function: Implement a function that performs training on the given model using the AG_NEWS dataset. Your model should achieve an accuracy of at least 80% to get full marks for this part.\n",
    "\n",
    "    - Text Sampling: Write a function that takes a sample text as input and classifies it using your trained model.\n",
    "\n",
    "    - Confusion Matrix: Implement a function to display the confusion matrix for your model on the test data.\n",
    "\n",
    "    - Submission: Submit your completed Jupyter Notebook. Make sure to include a markdown cell at the beginning of the notebook that lists the names of all team members. Teams should consist of 3 to 4 members.\n",
    "    \n",
    "<br>\n",
    "\n",
    "- Evaluation Criteria:\n",
    "\n",
    "    - Correct setup of all the required libraries and modules (10%)\n",
    "    - Code Quality (30%): Your code should be well-organized, clearly commented, and easy to follow. Use also markdown cells for clarity. Comments should be given for all the provided code, this will help you understand its functionality.\n",
    "    \n",
    "   - Functionality (60%):\n",
    "        - All the functions should execute without errors and provide the expected outputs.\n",
    "        - RNN model class (20%)\n",
    "        - Accuracy fucntion (10%)\n",
    "        - Training function (10%)\n",
    "        - Sampling function (10%)\n",
    "        - Confucion matrix (10%)\n",
    "\n",
    "        - The model should achieve at least an 80% accuracy on the AG_NEWS test set for full marks in this criterion.\n"
   ]
  },
  {
   "cell_type": "markdown",
   "id": "4de318da",
   "metadata": {
    "id": "4de318da"
   },
   "source": [
    "Dataset\n",
    "\n",
    "https://pytorch.org/text/stable/datasets.html#text-classification\n",
    "\n",
    "https://paperswithcode.com/dataset/ag-news\n"
   ]
  },
  {
   "cell_type": "markdown",
   "id": "4a9801f9",
   "metadata": {
    "id": "4a9801f9"
   },
   "source": [
    "### Import libraries"
   ]
  },
  {
   "cell_type": "code",
   "execution_count": 4,
   "id": "54394f53",
   "metadata": {
    "colab": {
     "base_uri": "https://localhost:8080/"
    },
    "id": "54394f53",
    "outputId": "ebc4a653-5d45-4a6c-cb41-ffd82e0c2590"
   },
   "outputs": [
    {
     "name": "stdout",
     "output_type": "stream",
     "text": [
      "Collecting torchtext\n",
      "  Downloading torchtext-0.18.0-cp311-cp311-manylinux1_x86_64.whl.metadata (7.9 kB)\n",
      "Collecting torchdata\n",
      "  Downloading torchdata-0.9.0-cp311-cp311-manylinux1_x86_64.whl.metadata (5.5 kB)\n",
      "Requirement already satisfied: tqdm in /home/olerma/anaconda3/lib/python3.11/site-packages (from torchtext) (4.66.2)\n",
      "Requirement already satisfied: requests in /home/olerma/anaconda3/lib/python3.11/site-packages (from torchtext) (2.31.0)\n",
      "Requirement already satisfied: torch>=2.3.0 in /home/olerma/anaconda3/lib/python3.11/site-packages (from torchtext) (2.4.1)\n",
      "Requirement already satisfied: numpy in /home/olerma/anaconda3/lib/python3.11/site-packages (from torchtext) (1.23.5)\n",
      "Requirement already satisfied: urllib3>=1.25 in /home/olerma/anaconda3/lib/python3.11/site-packages (from torchdata) (2.1.0)\n",
      "Requirement already satisfied: filelock in /home/olerma/anaconda3/lib/python3.11/site-packages (from torch>=2.3.0->torchtext) (3.13.1)\n",
      "Requirement already satisfied: typing-extensions>=4.8.0 in /home/olerma/anaconda3/lib/python3.11/site-packages (from torch>=2.3.0->torchtext) (4.11.0)\n",
      "Requirement already satisfied: sympy in /home/olerma/anaconda3/lib/python3.11/site-packages (from torch>=2.3.0->torchtext) (1.12)\n",
      "Requirement already satisfied: networkx in /home/olerma/anaconda3/lib/python3.11/site-packages (from torch>=2.3.0->torchtext) (3.1)\n",
      "Requirement already satisfied: jinja2 in /home/olerma/anaconda3/lib/python3.11/site-packages (from torch>=2.3.0->torchtext) (3.1.3)\n",
      "Requirement already satisfied: fsspec in /home/olerma/anaconda3/lib/python3.11/site-packages (from torch>=2.3.0->torchtext) (2024.3.1)\n",
      "Requirement already satisfied: nvidia-cuda-nvrtc-cu12==12.1.105 in /home/olerma/anaconda3/lib/python3.11/site-packages (from torch>=2.3.0->torchtext) (12.1.105)\n",
      "Requirement already satisfied: nvidia-cuda-runtime-cu12==12.1.105 in /home/olerma/anaconda3/lib/python3.11/site-packages (from torch>=2.3.0->torchtext) (12.1.105)\n",
      "Requirement already satisfied: nvidia-cuda-cupti-cu12==12.1.105 in /home/olerma/anaconda3/lib/python3.11/site-packages (from torch>=2.3.0->torchtext) (12.1.105)\n",
      "Requirement already satisfied: nvidia-cudnn-cu12==9.1.0.70 in /home/olerma/anaconda3/lib/python3.11/site-packages (from torch>=2.3.0->torchtext) (9.1.0.70)\n",
      "Requirement already satisfied: nvidia-cublas-cu12==12.1.3.1 in /home/olerma/anaconda3/lib/python3.11/site-packages (from torch>=2.3.0->torchtext) (12.1.3.1)\n",
      "Requirement already satisfied: nvidia-cufft-cu12==11.0.2.54 in /home/olerma/anaconda3/lib/python3.11/site-packages (from torch>=2.3.0->torchtext) (11.0.2.54)\n",
      "Requirement already satisfied: nvidia-curand-cu12==10.3.2.106 in /home/olerma/anaconda3/lib/python3.11/site-packages (from torch>=2.3.0->torchtext) (10.3.2.106)\n",
      "Requirement already satisfied: nvidia-cusolver-cu12==11.4.5.107 in /home/olerma/anaconda3/lib/python3.11/site-packages (from torch>=2.3.0->torchtext) (11.4.5.107)\n",
      "Requirement already satisfied: nvidia-cusparse-cu12==12.1.0.106 in /home/olerma/anaconda3/lib/python3.11/site-packages (from torch>=2.3.0->torchtext) (12.1.0.106)\n",
      "Requirement already satisfied: nvidia-nccl-cu12==2.20.5 in /home/olerma/anaconda3/lib/python3.11/site-packages (from torch>=2.3.0->torchtext) (2.20.5)\n",
      "Requirement already satisfied: nvidia-nvtx-cu12==12.1.105 in /home/olerma/anaconda3/lib/python3.11/site-packages (from torch>=2.3.0->torchtext) (12.1.105)\n",
      "Requirement already satisfied: triton==3.0.0 in /home/olerma/anaconda3/lib/python3.11/site-packages (from torch>=2.3.0->torchtext) (3.0.0)\n",
      "Requirement already satisfied: nvidia-nvjitlink-cu12 in /home/olerma/anaconda3/lib/python3.11/site-packages (from nvidia-cusolver-cu12==11.4.5.107->torch>=2.3.0->torchtext) (12.6.77)\n",
      "Requirement already satisfied: charset-normalizer<4,>=2 in /home/olerma/anaconda3/lib/python3.11/site-packages (from requests->torchtext) (2.0.4)\n",
      "Requirement already satisfied: idna<4,>=2.5 in /home/olerma/anaconda3/lib/python3.11/site-packages (from requests->torchtext) (3.7)\n",
      "Requirement already satisfied: certifi>=2017.4.17 in /home/olerma/anaconda3/lib/python3.11/site-packages (from requests->torchtext) (2024.8.30)\n",
      "Requirement already satisfied: MarkupSafe>=2.0 in /home/olerma/anaconda3/lib/python3.11/site-packages (from jinja2->torch>=2.3.0->torchtext) (2.1.3)\n",
      "Requirement already satisfied: mpmath>=0.19 in /home/olerma/anaconda3/lib/python3.11/site-packages (from sympy->torch>=2.3.0->torchtext) (1.3.0)\n",
      "Downloading torchtext-0.18.0-cp311-cp311-manylinux1_x86_64.whl (2.0 MB)\n",
      "\u001b[2K   \u001b[38;2;114;156;31m━━━━━━━━━━━━━━━━━━━━━━━━━━━━━━━━━━━━━━━━\u001b[0m \u001b[32m2.0/2.0 MB\u001b[0m \u001b[31m8.8 MB/s\u001b[0m eta \u001b[36m0:00:00\u001b[0m[31m6.4 MB/s\u001b[0m eta \u001b[36m0:00:01\u001b[0m\n",
      "\u001b[?25hDownloading torchdata-0.9.0-cp311-cp311-manylinux1_x86_64.whl (2.7 MB)\n",
      "\u001b[2K   \u001b[38;2;114;156;31m━━━━━━━━━━━━━━━━━━━━━━━━━━━━━━━━━━━━━━━━\u001b[0m \u001b[32m2.7/2.7 MB\u001b[0m \u001b[31m36.1 MB/s\u001b[0m eta \u001b[36m0:00:00\u001b[0m31m49.4 MB/s\u001b[0m eta \u001b[36m0:00:01\u001b[0m\n",
      "\u001b[?25hInstalling collected packages: torchtext, torchdata\n",
      "Successfully installed torchdata-0.9.0 torchtext-0.18.0\n",
      "Requirement already satisfied: torch in /home/olerma/anaconda3/lib/python3.11/site-packages (2.4.1)\n",
      "Requirement already satisfied: torchvision in /home/olerma/anaconda3/lib/python3.11/site-packages (0.19.1)\n",
      "Collecting torchaudio\n",
      "  Downloading torchaudio-2.5.1-cp311-cp311-manylinux1_x86_64.whl.metadata (6.4 kB)\n",
      "Requirement already satisfied: filelock in /home/olerma/anaconda3/lib/python3.11/site-packages (from torch) (3.13.1)\n",
      "Requirement already satisfied: typing-extensions>=4.8.0 in /home/olerma/anaconda3/lib/python3.11/site-packages (from torch) (4.11.0)\n",
      "Requirement already satisfied: sympy in /home/olerma/anaconda3/lib/python3.11/site-packages (from torch) (1.12)\n",
      "Requirement already satisfied: networkx in /home/olerma/anaconda3/lib/python3.11/site-packages (from torch) (3.1)\n",
      "Requirement already satisfied: jinja2 in /home/olerma/anaconda3/lib/python3.11/site-packages (from torch) (3.1.3)\n",
      "Requirement already satisfied: fsspec in /home/olerma/anaconda3/lib/python3.11/site-packages (from torch) (2024.3.1)\n",
      "Requirement already satisfied: nvidia-cuda-nvrtc-cu12==12.1.105 in /home/olerma/anaconda3/lib/python3.11/site-packages (from torch) (12.1.105)\n",
      "Requirement already satisfied: nvidia-cuda-runtime-cu12==12.1.105 in /home/olerma/anaconda3/lib/python3.11/site-packages (from torch) (12.1.105)\n",
      "Requirement already satisfied: nvidia-cuda-cupti-cu12==12.1.105 in /home/olerma/anaconda3/lib/python3.11/site-packages (from torch) (12.1.105)\n",
      "Requirement already satisfied: nvidia-cudnn-cu12==9.1.0.70 in /home/olerma/anaconda3/lib/python3.11/site-packages (from torch) (9.1.0.70)\n",
      "Requirement already satisfied: nvidia-cublas-cu12==12.1.3.1 in /home/olerma/anaconda3/lib/python3.11/site-packages (from torch) (12.1.3.1)\n",
      "Requirement already satisfied: nvidia-cufft-cu12==11.0.2.54 in /home/olerma/anaconda3/lib/python3.11/site-packages (from torch) (11.0.2.54)\n",
      "Requirement already satisfied: nvidia-curand-cu12==10.3.2.106 in /home/olerma/anaconda3/lib/python3.11/site-packages (from torch) (10.3.2.106)\n",
      "Requirement already satisfied: nvidia-cusolver-cu12==11.4.5.107 in /home/olerma/anaconda3/lib/python3.11/site-packages (from torch) (11.4.5.107)\n",
      "Requirement already satisfied: nvidia-cusparse-cu12==12.1.0.106 in /home/olerma/anaconda3/lib/python3.11/site-packages (from torch) (12.1.0.106)\n",
      "Requirement already satisfied: nvidia-nccl-cu12==2.20.5 in /home/olerma/anaconda3/lib/python3.11/site-packages (from torch) (2.20.5)\n",
      "Requirement already satisfied: nvidia-nvtx-cu12==12.1.105 in /home/olerma/anaconda3/lib/python3.11/site-packages (from torch) (12.1.105)\n",
      "Requirement already satisfied: triton==3.0.0 in /home/olerma/anaconda3/lib/python3.11/site-packages (from torch) (3.0.0)\n",
      "Requirement already satisfied: nvidia-nvjitlink-cu12 in /home/olerma/anaconda3/lib/python3.11/site-packages (from nvidia-cusolver-cu12==11.4.5.107->torch) (12.6.77)\n",
      "Requirement already satisfied: numpy in /home/olerma/anaconda3/lib/python3.11/site-packages (from torchvision) (1.23.5)\n",
      "Requirement already satisfied: pillow!=8.3.*,>=5.3.0 in /home/olerma/anaconda3/lib/python3.11/site-packages (from torchvision) (10.3.0)\n",
      "INFO: pip is looking at multiple versions of torchaudio to determine which version is compatible with other requirements. This could take a while.\n",
      "  Downloading torchaudio-2.5.0-cp311-cp311-manylinux1_x86_64.whl.metadata (6.4 kB)\n",
      "  Downloading torchaudio-2.4.1-cp311-cp311-manylinux1_x86_64.whl.metadata (6.4 kB)\n",
      "Requirement already satisfied: MarkupSafe>=2.0 in /home/olerma/anaconda3/lib/python3.11/site-packages (from jinja2->torch) (2.1.3)\n",
      "Requirement already satisfied: mpmath>=0.19 in /home/olerma/anaconda3/lib/python3.11/site-packages (from sympy->torch) (1.3.0)\n",
      "Downloading torchaudio-2.4.1-cp311-cp311-manylinux1_x86_64.whl (3.4 MB)\n",
      "\u001b[2K   \u001b[38;2;114;156;31m━━━━━━━━━━━━━━━━━━━━━━━━━━━━━━━━━━━━━━━━\u001b[0m \u001b[32m3.4/3.4 MB\u001b[0m \u001b[31m13.1 MB/s\u001b[0m eta \u001b[36m0:00:00\u001b[0m31m11.7 MB/s\u001b[0m eta \u001b[36m0:00:01\u001b[0m\n",
      "\u001b[?25hInstalling collected packages: torchaudio\n",
      "Successfully installed torchaudio-2.4.1\n",
      "Looking in links: https://download.pytorch.org/whl/torch_stable.html\n",
      "Collecting torch==2.0.1+cu118\n",
      "  Downloading https://download.pytorch.org/whl/cu118/torch-2.0.1%2Bcu118-cp311-cp311-linux_x86_64.whl (2267.3 MB)\n",
      "\u001b[2K     \u001b[38;2;114;156;31m━━━━━━━━━━━━━━━━━━━━━━━━━━━━━━━━━━━━━━━━\u001b[0m \u001b[32m2.3/2.3 GB\u001b[0m \u001b[31m3.5 MB/s\u001b[0m eta \u001b[36m0:00:00\u001b[0m0m eta \u001b[36m0:00:01\u001b[0m[36m0:00:02\u001b[0m\n",
      "\u001b[?25hCollecting torchtext==0.15.2\n",
      "  Downloading https://download.pytorch.org/whl/torchtext-0.15.2%2Bcpu-cp311-cp311-linux_x86_64.whl (2.0 MB)\n",
      "\u001b[2K     \u001b[38;2;114;156;31m━━━━━━━━━━━━━━━━━━━━━━━━━━━━━━━━━━━━━━━━\u001b[0m \u001b[32m2.0/2.0 MB\u001b[0m \u001b[31m6.4 MB/s\u001b[0m eta \u001b[36m0:00:00\u001b[0mm eta \u001b[36m0:00:01\u001b[0m[36m0:00:01\u001b[0m\n",
      "\u001b[?25hRequirement already satisfied: filelock in /home/olerma/anaconda3/lib/python3.11/site-packages (from torch==2.0.1+cu118) (3.13.1)\n",
      "Requirement already satisfied: typing-extensions in /home/olerma/anaconda3/lib/python3.11/site-packages (from torch==2.0.1+cu118) (4.11.0)\n",
      "Requirement already satisfied: sympy in /home/olerma/anaconda3/lib/python3.11/site-packages (from torch==2.0.1+cu118) (1.12)\n",
      "Requirement already satisfied: networkx in /home/olerma/anaconda3/lib/python3.11/site-packages (from torch==2.0.1+cu118) (3.1)\n",
      "Requirement already satisfied: jinja2 in /home/olerma/anaconda3/lib/python3.11/site-packages (from torch==2.0.1+cu118) (3.1.3)\n",
      "Collecting triton==2.0.0 (from torch==2.0.1+cu118)\n",
      "  Downloading triton-2.0.0-1-cp311-cp311-manylinux2014_x86_64.manylinux_2_17_x86_64.whl.metadata (1.0 kB)\n",
      "Requirement already satisfied: tqdm in /home/olerma/anaconda3/lib/python3.11/site-packages (from torchtext==0.15.2) (4.66.2)\n",
      "Requirement already satisfied: requests in /home/olerma/anaconda3/lib/python3.11/site-packages (from torchtext==0.15.2) (2.31.0)\n",
      "Requirement already satisfied: numpy in /home/olerma/anaconda3/lib/python3.11/site-packages (from torchtext==0.15.2) (1.23.5)\n",
      "Collecting torchdata==0.6.1 (from torchtext==0.15.2)\n",
      "  Downloading torchdata-0.6.1-cp311-cp311-manylinux_2_17_x86_64.manylinux2014_x86_64.whl.metadata (13 kB)\n",
      "Requirement already satisfied: urllib3>=1.25 in /home/olerma/anaconda3/lib/python3.11/site-packages (from torchdata==0.6.1->torchtext==0.15.2) (2.1.0)\n",
      "Collecting cmake (from triton==2.0.0->torch==2.0.1+cu118)\n",
      "  Downloading cmake-3.31.0-py3-none-manylinux_2_17_x86_64.manylinux2014_x86_64.whl.metadata (6.4 kB)\n",
      "Collecting lit (from triton==2.0.0->torch==2.0.1+cu118)\n",
      "  Downloading lit-18.1.8-py3-none-any.whl.metadata (2.5 kB)\n",
      "Requirement already satisfied: MarkupSafe>=2.0 in /home/olerma/anaconda3/lib/python3.11/site-packages (from jinja2->torch==2.0.1+cu118) (2.1.3)\n",
      "Requirement already satisfied: charset-normalizer<4,>=2 in /home/olerma/anaconda3/lib/python3.11/site-packages (from requests->torchtext==0.15.2) (2.0.4)\n",
      "Requirement already satisfied: idna<4,>=2.5 in /home/olerma/anaconda3/lib/python3.11/site-packages (from requests->torchtext==0.15.2) (3.7)\n",
      "Requirement already satisfied: certifi>=2017.4.17 in /home/olerma/anaconda3/lib/python3.11/site-packages (from requests->torchtext==0.15.2) (2024.8.30)\n",
      "Requirement already satisfied: mpmath>=0.19 in /home/olerma/anaconda3/lib/python3.11/site-packages (from sympy->torch==2.0.1+cu118) (1.3.0)\n",
      "Downloading torchdata-0.6.1-cp311-cp311-manylinux_2_17_x86_64.manylinux2014_x86_64.whl (4.6 MB)\n",
      "\u001b[2K   \u001b[38;2;114;156;31m━━━━━━━━━━━━━━━━━━━━━━━━━━━━━━━━━━━━━━━━\u001b[0m \u001b[32m4.6/4.6 MB\u001b[0m \u001b[31m11.0 MB/s\u001b[0m eta \u001b[36m0:00:00\u001b[0mm eta \u001b[36m0:00:01\u001b[0m:01\u001b[0m:01\u001b[0m\n",
      "\u001b[?25hDownloading triton-2.0.0-1-cp311-cp311-manylinux2014_x86_64.manylinux_2_17_x86_64.whl (63.3 MB)\n",
      "\u001b[2K   \u001b[38;2;114;156;31m━━━━━━━━━━━━━━━━━━━━━━━━━━━━━━━━━━━━━━━━\u001b[0m \u001b[32m63.3/63.3 MB\u001b[0m \u001b[31m24.1 MB/s\u001b[0m eta \u001b[36m0:00:00\u001b[0mm eta \u001b[36m0:00:01\u001b[0m[36m0:00:01\u001b[0m\n",
      "\u001b[?25hDownloading cmake-3.31.0-py3-none-manylinux_2_17_x86_64.manylinux2014_x86_64.whl (27.8 MB)\n",
      "\u001b[2K   \u001b[38;2;114;156;31m━━━━━━━━━━━━━━━━━━━━━━━━━━━━━━━━━━━━━━━━\u001b[0m \u001b[32m27.8/27.8 MB\u001b[0m \u001b[31m26.8 MB/s\u001b[0m eta \u001b[36m0:00:00\u001b[0mm eta \u001b[36m0:00:01\u001b[0m0:01\u001b[0m:01\u001b[0m\n",
      "\u001b[?25hDownloading lit-18.1.8-py3-none-any.whl (96 kB)\n",
      "\u001b[2K   \u001b[38;2;114;156;31m━━━━━━━━━━━━━━━━━━━━━━━━━━━━━━━━━━━━━━━━\u001b[0m \u001b[32m96.4/96.4 kB\u001b[0m \u001b[31m21.8 MB/s\u001b[0m eta \u001b[36m0:00:00\u001b[0m\n",
      "\u001b[?25hInstalling collected packages: lit, cmake, triton, torch, torchdata, torchtext\n",
      "  Attempting uninstall: triton\n",
      "    Found existing installation: triton 3.0.0\n",
      "    Uninstalling triton-3.0.0:\n",
      "      Successfully uninstalled triton-3.0.0\n",
      "  Attempting uninstall: torch\n",
      "    Found existing installation: torch 2.4.1\n",
      "    Uninstalling torch-2.4.1:\n",
      "      Successfully uninstalled torch-2.4.1\n",
      "  Attempting uninstall: torchdata\n",
      "    Found existing installation: torchdata 0.9.0\n",
      "    Uninstalling torchdata-0.9.0:\n",
      "      Successfully uninstalled torchdata-0.9.0\n",
      "  Attempting uninstall: torchtext\n",
      "    Found existing installation: torchtext 0.18.0\n",
      "    Uninstalling torchtext-0.18.0:\n",
      "      Successfully uninstalled torchtext-0.18.0\n",
      "\u001b[31mERROR: pip's dependency resolver does not currently take into account all the packages that are installed. This behaviour is the source of the following dependency conflicts.\n",
      "torchaudio 2.4.1 requires torch==2.4.1, but you have torch 2.0.1+cu118 which is incompatible.\n",
      "torchvision 0.19.1 requires torch==2.4.1, but you have torch 2.0.1+cu118 which is incompatible.\u001b[0m\u001b[31m\n",
      "\u001b[0mSuccessfully installed cmake-3.31.0 lit-18.1.8 torch-2.0.1+cu118 torchdata-0.6.1 torchtext-0.15.2+cpu triton-2.0.0\n"
     ]
    }
   ],
   "source": [
    "!pip install torchtext torchdata\n",
    "!pip install torch torchvision torchaudio\n",
    "!pip install torch==2.0.1+cu118 torchtext==0.15.2 -f https://download.pytorch.org/whl/torch_stable.html"
   ]
  },
  {
   "cell_type": "code",
   "execution_count": 13,
   "id": "QZoHz8zrG_ZK",
   "metadata": {
    "colab": {
     "base_uri": "https://localhost:8080/"
    },
    "id": "QZoHz8zrG_ZK",
    "outputId": "d4f84c18-f303-4be6-b238-7d74fcd70515"
   },
   "outputs": [
    {
     "name": "stdout",
     "output_type": "stream",
     "text": [
      "Collecting portalocker>=2.0.0\n",
      "  Downloading portalocker-2.10.1-py3-none-any.whl.metadata (8.5 kB)\n",
      "Downloading portalocker-2.10.1-py3-none-any.whl (18 kB)\n",
      "Installing collected packages: portalocker\n",
      "Successfully installed portalocker-2.10.1\n"
     ]
    }
   ],
   "source": [
    "!pip install 'portalocker>=2.0.0'"
   ]
  },
  {
   "cell_type": "code",
   "execution_count": 1,
   "id": "878b524f",
   "metadata": {
    "colab": {
     "base_uri": "https://localhost:8080/",
     "height": 129
    },
    "id": "878b524f",
    "outputId": "e1bb9471-78d7-4e29-e7f7-8333b4265106"
   },
   "outputs": [],
   "source": [
    "# The following libraries are required for running the given code\n",
    "# Please feel free to add any libraries you consider adecuate to complete the assingment.\n",
    "import numpy as np\n",
    "#PyTorch libraries\n",
    "import torch\n",
    "from torchtext.datasets import AG_NEWS\n",
    "# Dataloader library\n",
    "from torch.utils.data import DataLoader\n",
    "from torch.utils.data.dataset import random_split\n",
    "# Libraries to prepare the data\n",
    "from torchtext.data.utils import get_tokenizer\n",
    "from torchtext.vocab import build_vocab_from_iterator\n",
    "from torchtext.data.functional import to_map_style_dataset\n",
    "# neural layers\n",
    "from torch import nn\n",
    "from torch.nn import functional as F\n",
    "\n",
    "# These libraries are suggested to plot confusion matrix\n",
    "# you may use others\n",
    "#import scikitplot as skplt\n",
    "import gc"
   ]
  },
  {
   "cell_type": "code",
   "execution_count": 3,
   "id": "3bab55f3",
   "metadata": {
    "colab": {
     "base_uri": "https://localhost:8080/"
    },
    "id": "3bab55f3",
    "outputId": "82c9538f-93a8-421f-f1cd-2fa4a2dd03ef"
   },
   "outputs": [
    {
     "name": "stdout",
     "output_type": "stream",
     "text": [
      "cuda\n"
     ]
    }
   ],
   "source": [
    "# Use GPU if available\n",
    "device = torch.device(\"cuda\" if torch.cuda.is_available() else \"cpu\")\n",
    "print(device)"
   ]
  },
  {
   "cell_type": "markdown",
   "id": "3d38956d",
   "metadata": {
    "id": "3d38956d"
   },
   "source": [
    "### Get the train and the test datasets and dataloaders"
   ]
  },
  {
   "cell_type": "markdown",
   "id": "e9c6b784",
   "metadata": {
    "id": "e9c6b784"
   },
   "source": [
    "Classes:\n",
    "\n",
    "* 1 - World\n",
    "\n",
    "* 2 - Sports\n",
    "\n",
    "* 3 - Business\n",
    "\n",
    "* 4 - Sci/Tech\n",
    "\n",
    "We will convert them to:\n",
    "\n",
    "* 0 - World\n",
    "\n",
    "* 1 - Sports\n",
    "\n",
    "* 2 - Business\n",
    "\n",
    "* 3 - Sci/Tech"
   ]
  },
  {
   "cell_type": "code",
   "execution_count": 7,
   "id": "49fbed19",
   "metadata": {
    "colab": {
     "base_uri": "https://localhost:8080/",
     "height": 627
    },
    "id": "49fbed19",
    "outputId": "5fe00ea6-276f-4ee8-b199-636a904182ef"
   },
   "outputs": [],
   "source": [
    "train_dataset, test_dataset = AG_NEWS()\n",
    "train_dataset, test_dataset = to_map_style_dataset(train_dataset), to_map_style_dataset(test_dataset)"
   ]
  },
  {
   "cell_type": "code",
   "execution_count": 9,
   "id": "9c372eb9",
   "metadata": {
    "id": "9c372eb9"
   },
   "outputs": [],
   "source": [
    "# Get the tokeniser\n",
    "# tokeniser object\n",
    "tokeniser = get_tokenizer('basic_english')\n",
    "\n",
    "def yield_tokens(data):\n",
    "    for _, text in data:\n",
    "        yield tokeniser(text)"
   ]
  },
  {
   "cell_type": "code",
   "execution_count": 11,
   "id": "794d0375",
   "metadata": {
    "id": "794d0375"
   },
   "outputs": [],
   "source": [
    "# Build the vocabulary\n",
    "vocab = build_vocab_from_iterator(yield_tokens(train_dataset), specials=[\"<unk>\"])\n",
    "#set unknown token at position 0\n",
    "vocab.set_default_index(vocab[\"<unk>\"])"
   ]
  },
  {
   "cell_type": "code",
   "execution_count": 13,
   "id": "b48268d4",
   "metadata": {
    "id": "b48268d4"
   },
   "outputs": [
    {
     "name": "stdout",
     "output_type": "stream",
     "text": [
      "['welcome', 'to', 'te3007'] [3314, 4, 0]\n"
     ]
    }
   ],
   "source": [
    "#test tokens\n",
    "tokens = tokeniser('Welcome to TE3007')\n",
    "print(tokens, vocab(tokens))"
   ]
  },
  {
   "cell_type": "code",
   "execution_count": 15,
   "id": "c8c8f6a6",
   "metadata": {
    "id": "c8c8f6a6"
   },
   "outputs": [],
   "source": [
    "NUM_TRAIN = int(len(train_dataset)*0.9)\n",
    "NUM_VAL = len(train_dataset) - NUM_TRAIN"
   ]
  },
  {
   "cell_type": "code",
   "execution_count": 17,
   "id": "8290895e",
   "metadata": {
    "id": "8290895e"
   },
   "outputs": [],
   "source": [
    "train_dataset, val_dataset = random_split(train_dataset, [NUM_TRAIN, NUM_VAL])"
   ]
  },
  {
   "cell_type": "code",
   "execution_count": 19,
   "id": "cbc75b54",
   "metadata": {
    "id": "cbc75b54"
   },
   "outputs": [
    {
     "name": "stdout",
     "output_type": "stream",
     "text": [
      "108000 12000 7600\n"
     ]
    }
   ],
   "source": [
    "print(len(train_dataset), len(val_dataset), len(test_dataset))"
   ]
  },
  {
   "cell_type": "code",
   "execution_count": 21,
   "id": "ffdbf077",
   "metadata": {
    "id": "ffdbf077"
   },
   "outputs": [],
   "source": [
    "# function passed to the DataLoader to process a batch of data as indicated\n",
    "def collate_batch(batch):\n",
    "    # Get label and text\n",
    "    y, x = list(zip(*batch))\n",
    "\n",
    "    # Create list with indices from tokeniser\n",
    "    x = [vocab(tokeniser(text)) for text in x]\n",
    "    x = [t + ([0]*(max_tokens - len(t))) if len(t) < max_tokens else t[:max_tokens] for t in x]\n",
    "\n",
    "    # Prepare the labels, by subtracting 1 to get them in the range 0-3\n",
    "    return torch.tensor(x, dtype=torch.int32), torch.tensor(y, dtype=torch.int32) - 1"
   ]
  },
  {
   "cell_type": "code",
   "execution_count": 23,
   "id": "5eb459c7",
   "metadata": {
    "id": "5eb459c7"
   },
   "outputs": [],
   "source": [
    "labels =  [\"World\", \"Sports\", \"Business\", \"Sci/Tech\"]\n",
    "max_tokens = 50\n",
    "BATCH_SIZE = 256"
   ]
  },
  {
   "cell_type": "code",
   "execution_count": 25,
   "id": "0a55e6ee",
   "metadata": {
    "id": "0a55e6ee"
   },
   "outputs": [],
   "source": [
    "train_loader = DataLoader(train_dataset, batch_size=BATCH_SIZE, collate_fn=collate_batch, shuffle = True)\n",
    "val_loader = DataLoader(val_dataset, batch_size=BATCH_SIZE, collate_fn=collate_batch, shuffle = True)\n",
    "test_loader = DataLoader(test_dataset, batch_size=BATCH_SIZE, collate_fn=collate_batch, shuffle = True)"
   ]
  },
  {
   "cell_type": "markdown",
   "id": "47b98898",
   "metadata": {
    "id": "47b98898"
   },
   "source": [
    "### Let us build our RNN model"
   ]
  },
  {
   "cell_type": "code",
   "execution_count": 28,
   "id": "50f20793",
   "metadata": {
    "id": "50f20793"
   },
   "outputs": [],
   "source": [
    "EMBEDDING_SIZE = 100\n",
    "NEURONS = 128\n",
    "LAYERS = 2\n",
    "NUM_CLASSES = 4"
   ]
  },
  {
   "cell_type": "code",
   "execution_count": 30,
   "id": "0f7f5621",
   "metadata": {
    "id": "0f7f5621"
   },
   "outputs": [],
   "source": [
    "class RNN_Model_1(nn.Module):\n",
    "    def __init__(self, embed_size, hidden, layers, num_classes):\n",
    "        super().__init__()\n",
    "\n",
    "        # Embedding layer\n",
    "        self.embedding_layer = nn.Embedding(num_embeddings=len(vocab),\n",
    "                                            embedding_dim=embed_size)\n",
    "\n",
    "        # Recurrent layer (you could also use nn.RNN or nn.GRU here)\n",
    "        self.rnn = nn.LSTM(input_size=embed_size,\n",
    "                           hidden_size=hidden,\n",
    "                           num_layers=layers,\n",
    "                           batch_first=True)\n",
    "\n",
    "        # Fully connected layer for classification\n",
    "        self.fc = nn.Linear(hidden, num_classes)\n",
    "\n",
    "    def forward(self, x):\n",
    "        # x is (batch_size, seq_length)\n",
    "\n",
    "        # Apply embedding layer\n",
    "        x = self.embedding_layer(x)  # Shape: (batch_size, seq_length, embed_size)\n",
    "\n",
    "        # Apply RNN layer\n",
    "        out, _ = self.rnn(x)  # out shape: (batch_size, seq_length, hidden)\n",
    "\n",
    "        # Take the output from the last time step for classification\n",
    "        out = out[:, -1, :]  # Shape: (batch_size, hidden)\n",
    "\n",
    "        # Pass through the fully connected layer\n",
    "        out = self.fc(out)  # Shape: (batch_size, num_classes)\n",
    "\n",
    "        return out"
   ]
  },
  {
   "cell_type": "code",
   "execution_count": 32,
   "id": "2a42613f",
   "metadata": {
    "code_folding": [],
    "id": "2a42613f"
   },
   "outputs": [],
   "source": [
    "def accuracy(model, loader):\n",
    "    model.eval()  # Set the model to evaluation mode\n",
    "    correct = 0\n",
    "    total = 0\n",
    "\n",
    "    with torch.no_grad():  # Disable gradient calculation for evaluation\n",
    "        for x, y in loader:\n",
    "            # Move data to the device (GPU if available)\n",
    "            x, y = x.to(device), y.to(device)\n",
    "\n",
    "            # Forward pass: Get model predictions\n",
    "            outputs = model(x)\n",
    "\n",
    "            # Get predicted class labels by finding the index of the max logit\n",
    "            _, predicted = torch.max(outputs, 1)\n",
    "\n",
    "            # Update counts\n",
    "            correct += (predicted == y).sum().item()\n",
    "            total += y.size(0)\n",
    "\n",
    "    # Calculate accuracy as a percentage\n",
    "    accuracy = 100 * correct / total\n",
    "    return accuracy"
   ]
  },
  {
   "cell_type": "code",
   "execution_count": 64,
   "id": "5e843e1f",
   "metadata": {
    "code_folding": [],
    "id": "5e843e1f"
   },
   "outputs": [],
   "source": [
    "def train(model, optimiser, train_loader, val_loader, criterion, epochs=100):\n",
    "    for epoch in range(epochs):\n",
    "        model.train()  # Set the model to training mode\n",
    "        running_loss = 0.0\n",
    "\n",
    "        for x, y in train_loader:\n",
    "            # Move data to the device (GPU if available)\n",
    "            x, y = x.to(device), y.to(device).long()\n",
    "\n",
    "            # Zero the gradients\n",
    "            optimiser.zero_grad()\n",
    "\n",
    "            # Forward pass: compute predictions\n",
    "            outputs = model(x)\n",
    "            loss = criterion(outputs, y)\n",
    "\n",
    "            # Backward pass: compute gradients and update weights\n",
    "            loss.backward()\n",
    "            optimiser.step()\n",
    "\n",
    "            # Accumulate loss for the epoch\n",
    "            running_loss += loss.item() * x.size(0)\n",
    "\n",
    "        # Calculate average loss for the epoch\n",
    "        epoch_loss = running_loss / len(train_loader.dataset)\n",
    "\n",
    "        # Evaluate model accuracy on training and validation sets\n",
    "        train_acc = accuracy(model, train_loader)\n",
    "        val_acc = accuracy(model, val_loader)\n",
    "\n",
    "        # Print epoch details\n",
    "        print(f\"Epoch [{epoch + 1}/{epochs}] - Loss: {epoch_loss:.4f} - Training Accuracy: {train_acc:.2f}% - Validation Accuracy: {val_acc:.2f}%\")"
   ]
  },
  {
   "cell_type": "code",
   "execution_count": 40,
   "id": "87775b29",
   "metadata": {
    "id": "87775b29"
   },
   "outputs": [],
   "source": [
    "# Define training parameters\n",
    "epochs = 10  # You may increase if needed\n",
    "lr = 0.001\n",
    "\n",
    "# Instantiate model\n",
    "rnn_model = RNN_Model_1(EMBEDDING_SIZE, NEURONS, LAYERS, NUM_CLASSES).to(device)\n",
    "# Set up the optimizer\n",
    "optimiser = torch.optim.Adam(rnn_model.parameters(), lr=lr)"
   ]
  },
  {
   "cell_type": "code",
   "execution_count": 66,
   "id": "aec12a1b",
   "metadata": {
    "id": "aec12a1b",
    "scrolled": true
   },
   "outputs": [
    {
     "name": "stdout",
     "output_type": "stream",
     "text": [
      "Epoch [1/10] - Loss: 0.8102 - Training Accuracy: 85.29% - Validation Accuracy: 84.82%\n",
      "Epoch [2/10] - Loss: 0.3700 - Training Accuracy: 90.64% - Validation Accuracy: 89.11%\n",
      "Epoch [3/10] - Loss: 0.2751 - Training Accuracy: 92.51% - Validation Accuracy: 89.59%\n",
      "Epoch [4/10] - Loss: 0.2206 - Training Accuracy: 94.48% - Validation Accuracy: 90.78%\n",
      "Epoch [5/10] - Loss: 0.1805 - Training Accuracy: 95.22% - Validation Accuracy: 90.65%\n",
      "Epoch [6/10] - Loss: 0.1499 - Training Accuracy: 96.07% - Validation Accuracy: 90.60%\n",
      "Epoch [7/10] - Loss: 0.1237 - Training Accuracy: 97.24% - Validation Accuracy: 90.83%\n",
      "Epoch [8/10] - Loss: 0.1023 - Training Accuracy: 97.74% - Validation Accuracy: 90.37%\n",
      "Epoch [9/10] - Loss: 0.0824 - Training Accuracy: 98.00% - Validation Accuracy: 90.51%\n",
      "Epoch [10/10] - Loss: 0.0698 - Training Accuracy: 98.38% - Validation Accuracy: 90.19%\n"
     ]
    }
   ],
   "source": [
    "train(rnn_model, optimiser, train_loader, val_loader, criterion = nn.CrossEntropyLoss(), epochs=epochs)"
   ]
  },
  {
   "cell_type": "code",
   "execution_count": 68,
   "id": "7a3ef175",
   "metadata": {
    "id": "7a3ef175"
   },
   "outputs": [
    {
     "name": "stdout",
     "output_type": "stream",
     "text": [
      "89.4474\n"
     ]
    }
   ],
   "source": [
    "print(f'{accuracy(rnn_model, test_loader):.4f}')"
   ]
  },
  {
   "cell_type": "code",
   "execution_count": 70,
   "id": "ed30693d",
   "metadata": {
    "id": "ed30693d"
   },
   "outputs": [],
   "source": [
    "def sample_text(model, text):\n",
    "    model.eval()  # Set the model to evaluation mode\n",
    "\n",
    "    # Tokenize and encode the input text\n",
    "    tokens = tokeniser(text)\n",
    "    token_ids = vocab(tokens)\n",
    "\n",
    "    # Pad or truncate to the maximum length\n",
    "    token_ids = token_ids[:max_tokens] + [0] * (max_tokens - len(token_ids))\n",
    "\n",
    "    # Convert to tensor and move to the device\n",
    "    input_tensor = torch.tensor([token_ids], dtype=torch.int32).to(device)\n",
    "\n",
    "    with torch.no_grad():  # Disable gradients for evaluation\n",
    "        # Get the model prediction\n",
    "        output = model(input_tensor)\n",
    "        _, predicted_class = torch.max(output, 1)\n",
    "\n",
    "    # Map the predicted index to the corresponding label\n",
    "    predicted_label = labels[predicted_class.item()]\n",
    "    return predicted_label"
   ]
  },
  {
   "cell_type": "code",
   "execution_count": 96,
   "id": "534f0220",
   "metadata": {
    "id": "534f0220"
   },
   "outputs": [
    {
     "name": "stdout",
     "output_type": "stream",
     "text": [
      "Sample text:\n",
      " Wall St. Bears Claw Back Into the Black (Reuters) Reuters - Short-sellers, Wall Street's dwindling\\band of ultra-cynics, are seeing green again. \n",
      "Predicted Label: Sci/Tech\n"
     ]
    }
   ],
   "source": [
    "train_iter = iter(AG_NEWS(split='train'))\n",
    "label, sampleTxt = next(train_iter)\n",
    "print(\"Sample text:\\n\", sampleTxt, \"\\nPredicted Label:\" , sample_text(rnn_model, sampleTxt))"
   ]
  },
  {
   "cell_type": "code",
   "execution_count": 74,
   "id": "bb38e093",
   "metadata": {
    "id": "bb38e093"
   },
   "outputs": [],
   "source": [
    "from sklearn.metrics import confusion_matrix\n",
    "import matplotlib.pyplot as plt\n",
    "import seaborn as sns\n",
    "\n",
    "def plot_confusion_matrix(model, loader, labels):\n",
    "    model.eval()  # Set model to evaluation mode\n",
    "    all_preds = []\n",
    "    all_labels = []\n",
    "\n",
    "    with torch.no_grad():\n",
    "        for x, y in loader:\n",
    "            # Move data to device\n",
    "            x, y = x.to(device), y.to(device)\n",
    "\n",
    "            # Get model predictions\n",
    "            outputs = model(x)\n",
    "            _, predicted = torch.max(outputs, 1)\n",
    "\n",
    "            # Store predictions and actual labels\n",
    "            all_preds.extend(predicted.cpu().numpy())\n",
    "            all_labels.extend(y.cpu().numpy())\n",
    "\n",
    "    # Compute confusion matrix\n",
    "    cm = confusion_matrix(all_labels, all_preds)\n",
    "\n",
    "    # Plot confusion matrix using seaborn\n",
    "    plt.figure(figsize=(8, 6))\n",
    "    sns.heatmap(cm, annot=True, fmt=\"d\", cmap=\"Blues\", xticklabels=labels, yticklabels=labels)\n",
    "    plt.xlabel(\"Predicted Label\")\n",
    "    plt.ylabel(\"True Label\")\n",
    "    plt.title(\"Confusion Matrix\")\n",
    "    plt.show()"
   ]
  },
  {
   "cell_type": "code",
   "execution_count": 98,
   "id": "nw2CyJ_xKQ85",
   "metadata": {
    "id": "nw2CyJ_xKQ85"
   },
   "outputs": [
    {
     "data": {
      "image/png": "[encoded data removed]",
      "text/plain": [
       "<Figure size 800x600 with 2 Axes>"
      ]
     },
     "metadata": {},
     "output_type": "display_data"
    }
   ],
   "source": [
    "plot_confusion_matrix(rnn_model, test_loader, labels=[\"World\", \"Sports\", \"Business\", \"Sci/Tech\"])"
   ]
  },
  {
   "cell_type": "code",
   "execution_count": null,
   "id": "a98adb43-9c77-4ff8-8abd-10f8a6ee15f7",
   "metadata": {},
   "outputs": [],
   "source": []
  }
 ],
 "metadata": {
  "colab": {
   "provenance": []
  },
  "kernelspec": {
   "display_name": "Python 3 (ipykernel)",
   "language": "python",
   "name": "python3"
  },
  "language_info": {
   "codemirror_mode": {
    "name": "ipython",
    "version": 3
   },
   "file_extension": ".py",
   "mimetype": "text/x-python",
   "name": "python",
   "nbconvert_exporter": "python",
   "pygments_lexer": "ipython3",
   "version": "3.11.5"
  },
  "varInspector": {
   "cols": {
    "lenName": 16,
    "lenType": 16,
    "lenVar": 40
   },
   "kernels_config": {
    "python": {
     "delete_cmd_postfix": "",
     "delete_cmd_prefix": "del ",
     "library": "var_list.py",
     "varRefreshCmd": "print(var_dic_list())"
    },
    "r": {
     "delete_cmd_postfix": ") ",
     "delete_cmd_prefix": "rm(",
     "library": "var_list.r",
     "varRefreshCmd": "cat(var_dic_list()) "
    }
   },
   "types_to_exclude": [
    "module",
    "function",
    "builtin_function_or_method",
    "instance",
    "_Feature"
   ],
   "window_display": false
  }
 },
 "nbformat": 4,
 "nbformat_minor": 5
}
