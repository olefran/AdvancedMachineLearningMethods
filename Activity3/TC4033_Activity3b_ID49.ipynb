{
 "cells": [
  {
   "cell_type": "markdown",
   "id": "940c6dbc",
   "metadata": {
    "id": "940c6dbc"
   },
   "source": [
    "## TC 5033\n",
    "### Word Embeddings\n",
    "\n",
    "### Team members:\n",
    "\n",
    "+ Emmanuel Francisco González Velázquez - A01364577\n",
    "+ Oscar Israel Lerma Franco - A01380817\n",
    "+ Jesús Mario Martínez Díaz - A01740049\n",
    "+ Eduardo Selim Martínez Mayorga - A01795167\n",
    "+ José Antonio Hernández Hernández - A01381334\n",
    "\n",
    "<br>\n",
    "\n",
    "#### Activity 3b: Text Classification using RNNs and AG_NEWS dataset in PyTorch\n",
    "<br>\n",
    "\n",
    "- Objective:\n",
    "    - Understand the basics of Recurrent Neural Networks (RNNs) and their application in text classification.\n",
    "    - Learn how to handle a real-world text dataset, AG_NEWS, in PyTorch.\n",
    "    - Gain hands-on experience in defining, training, and evaluating a text classification model in PyTorch.\n",
    "    \n",
    "<br>\n",
    "\n",
    "- Instructions:\n",
    "    - Data Preparation: Starter code will be provided that loads the AG_NEWS dataset and prepares it for training. Do not modify this part. However, you should be sure to understand it, and comment it, the use of markdown cells is suggested.\n",
    "\n",
    "    - Model Setup: A skeleton code for the RNN model class will be provided. Complete this class and use it to instantiate your model.\n",
    "\n",
    "    - Implementing Accuracy Function: Write a function that takes model predictions and ground truth labels as input and returns the model's accuracy.\n",
    "\n",
    "    - Training Function: Implement a function that performs training on the given model using the AG_NEWS dataset. Your model should achieve an accuracy of at least 80% to get full marks for this part.\n",
    "\n",
    "    - Text Sampling: Write a function that takes a sample text as input and classifies it using your trained model.\n",
    "\n",
    "    - Confusion Matrix: Implement a function to display the confusion matrix for your model on the test data.\n",
    "\n",
    "    - Submission: Submit your completed Jupyter Notebook. Make sure to include a markdown cell at the beginning of the notebook that lists the names of all team members. Teams should consist of 3 to 4 members.\n",
    "    \n",
    "<br>\n",
    "\n",
    "- Evaluation Criteria:\n",
    "\n",
    "    - Correct setup of all the required libraries and modules (10%)\n",
    "    - Code Quality (30%): Your code should be well-organized, clearly commented, and easy to follow. Use also markdown cells for clarity. Comments should be given for all the provided code, this will help you understand its functionality.\n",
    "    \n",
    "   - Functionality (60%):\n",
    "        - All the functions should execute without errors and provide the expected outputs.\n",
    "        - RNN model class (20%)\n",
    "        - Accuracy fucntion (10%)\n",
    "        - Training function (10%)\n",
    "        - Sampling function (10%)\n",
    "        - Confucion matrix (10%)\n",
    "\n",
    "        - The model should achieve at least an 80% accuracy on the AG_NEWS test set for full marks in this criterion.\n"
   ]
  },
  {
   "cell_type": "markdown",
   "id": "4de318da",
   "metadata": {
    "id": "4de318da"
   },
   "source": [
    "Dataset\n",
    "\n",
    "https://pytorch.org/text/stable/datasets.html#text-classification\n",
    "\n",
    "https://paperswithcode.com/dataset/ag-news\n"
   ]
  },
  {
   "cell_type": "markdown",
   "id": "4a9801f9",
   "metadata": {
    "id": "4a9801f9"
   },
   "source": [
    "### Import libraries"
   ]
  },
  {
   "cell_type": "code",
   "execution_count": 72,
   "id": "54394f53",
   "metadata": {
    "colab": {
     "base_uri": "https://localhost:8080/"
    },
    "id": "54394f53",
    "outputId": "ebc4a653-5d45-4a6c-cb41-ffd82e0c2590"
   },
   "outputs": [],
   "source": [
    "#!pip install torchtext torchdata\n",
    "#!pip install torch torchvision torchaudio\n",
    "#!pip install torch==2.0.1+cu118 torchtext==0.15.2 -f https://download.pytorch.org/whl/torch_stable.html"
   ]
  },
  {
   "cell_type": "code",
   "execution_count": 73,
   "id": "7390e0e0",
   "metadata": {},
   "outputs": [],
   "source": [
    "# For CUDA 11.8\n",
    "#!pip install torch torchvision torchaudio --index-url https://download.pytorch.org/whl/cu118\n",
    "\n",
    "# For CUDA 11.7\n",
    "#!pip install torch torchvision torchaudio --index-url https://download.pytorch.org/whl/cu117\n"
   ]
  },
  {
   "cell_type": "code",
   "execution_count": 74,
   "id": "QZoHz8zrG_ZK",
   "metadata": {
    "colab": {
     "base_uri": "https://localhost:8080/"
    },
    "id": "QZoHz8zrG_ZK",
    "outputId": "d4f84c18-f303-4be6-b238-7d74fcd70515"
   },
   "outputs": [],
   "source": [
    "#!pip install scipy==1.7.3"
   ]
  },
  {
   "cell_type": "code",
   "execution_count": 75,
   "id": "878b524f",
   "metadata": {
    "colab": {
     "base_uri": "https://localhost:8080/",
     "height": 129
    },
    "id": "878b524f",
    "outputId": "e1bb9471-78d7-4e29-e7f7-8333b4265106"
   },
   "outputs": [],
   "source": [
    "# The following libraries are required for running the given code\n",
    "# Please feel free to add any libraries you consider adecuate to complete the assingment.\n",
    "import numpy as np\n",
    "#PyTorch libraries\n",
    "import torch\n",
    "from torchtext.datasets import AG_NEWS\n",
    "# Dataloader library\n",
    "from torch.utils.data import DataLoader\n",
    "from torch.utils.data.dataset import random_split\n",
    "# Libraries to prepare the data\n",
    "from torchtext.data.utils import get_tokenizer\n",
    "from torchtext.vocab import build_vocab_from_iterator\n",
    "from torchtext.data.functional import to_map_style_dataset\n",
    "# neural layers\n",
    "from torch import nn\n",
    "from torch.nn import functional as F\n",
    "\n",
    "# These libraries are suggested to plot confusion matrix\n",
    "# you may use others\n",
    "import scikitplot as skplt\n",
    "import gc"
   ]
  },
  {
   "cell_type": "code",
   "execution_count": 76,
   "id": "3bab55f3",
   "metadata": {
    "colab": {
     "base_uri": "https://localhost:8080/"
    },
    "id": "3bab55f3",
    "outputId": "82c9538f-93a8-421f-f1cd-2fa4a2dd03ef"
   },
   "outputs": [
    {
     "name": "stdout",
     "output_type": "stream",
     "text": [
      "cpu\n"
     ]
    }
   ],
   "source": [
    "# Use GPU if available\n",
    "device = torch.device(\"cuda\" if torch.cuda.is_available() else \"cpu\")\n",
    "print(device)"
   ]
  },
  {
   "cell_type": "markdown",
   "id": "3d38956d",
   "metadata": {
    "id": "3d38956d"
   },
   "source": [
    "### Get the train and the test datasets and dataloaders"
   ]
  },
  {
   "cell_type": "markdown",
   "id": "e9c6b784",
   "metadata": {
    "id": "e9c6b784"
   },
   "source": [
    "Classes:\n",
    "\n",
    "* 1 - World\n",
    "\n",
    "* 2 - Sports\n",
    "\n",
    "* 3 - Business\n",
    "\n",
    "* 4 - Sci/Tech\n",
    "\n",
    "We will convert them to:\n",
    "\n",
    "* 0 - World\n",
    "\n",
    "* 1 - Sports\n",
    "\n",
    "* 2 - Business\n",
    "\n",
    "* 3 - Sci/Tech"
   ]
  },
  {
   "cell_type": "code",
   "execution_count": 77,
   "id": "49fbed19",
   "metadata": {
    "colab": {
     "base_uri": "https://localhost:8080/",
     "height": 627
    },
    "id": "49fbed19",
    "outputId": "5fe00ea6-276f-4ee8-b199-636a904182ef"
   },
   "outputs": [],
   "source": [
    "# Load the AG_NEWS dataset, which consists of training and test datasets\n",
    "train_dataset, test_dataset = AG_NEWS()\n",
    "#Convert both the training and test datasets to a map-style dataset format\n",
    "# Map-style datasets allow random access to samples, which is useful for indexing and transformations.\n",
    "train_dataset, test_dataset = to_map_style_dataset(train_dataset), to_map_style_dataset(test_dataset)"
   ]
  },
  {
   "cell_type": "markdown",
   "id": "383e6d05",
   "metadata": {},
   "source": [
    "## Tokenizer Setup\n",
    "\n",
    "1. **Obtain the tokenizer**: This code uses basic English tokenization to process text data.\n",
    "\n",
    "2. **Define a generator function**: The function `yield_tokens` iterates over the dataset and applies the tokenizer to each text sample.\n"
   ]
  },
  {
   "cell_type": "code",
   "execution_count": 78,
   "id": "9c372eb9",
   "metadata": {
    "id": "9c372eb9"
   },
   "outputs": [],
   "source": [
    "# Obtain the tokenizer\n",
    "# Create a tokenizer object using basic English tokenization\n",
    "tokeniser = get_tokenizer('basic_english')\n",
    "\n",
    "# Define a generator function to yield tokens from the dataset\n",
    "# The function iterates over each item in the data and applies the tokenizer to the text\n",
    "def yield_tokens(data):\n",
    "    for _, text in data:\n",
    "        yield tokeniser(text)\n"
   ]
  },
  {
   "cell_type": "markdown",
   "id": "eb0a232e",
   "metadata": {},
   "source": [
    "# Text Data Preparation \n",
    "\n",
    "Steps for setting up text data for model training.\n",
    "\n",
    "## Steps\n",
    "\n",
    "1. **Vocabulary Setup**: Create a vocabulary with a special token for unknown words.\n",
    "2. **Tokenization**: Verify tokenization on a sample.\n",
    "3. **Dataset Splitting**: Split data into training, validation, and test sets.\n",
    "4. **Configuration**: Define labels, max sequence length, and batch size.\n",
    "5. **Collate Function**: Prepare data by tokenizing, padding, and converting to tensors.\n",
    "6. **Data Loaders**: Create loaders for batching and shuffling the data.\n",
    "\n",
    "This prepares the text data for efficient training and evaluation."
   ]
  },
  {
   "cell_type": "code",
   "execution_count": 79,
   "id": "794d0375",
   "metadata": {
    "id": "794d0375"
   },
   "outputs": [],
   "source": [
    "# Build the vocabulary from the training dataset by iterating over tokenized text\n",
    "# 'specials' parameter is set to include \"<unk>\" as a special token for unknown words\n",
    "vocab = build_vocab_from_iterator(yield_tokens(train_dataset), specials=[\"<unk>\"])\n",
    "\n",
    "# Set the default index for unknown tokens to the index of \"<unk>\"\n",
    "# This ensures that any out-of-vocabulary words are mapped to \"<unk>\" in the vocabulary\n",
    "vocab.set_default_index(vocab[\"<unk>\"])\n"
   ]
  },
  {
   "cell_type": "code",
   "execution_count": 80,
   "id": "b48268d4",
   "metadata": {
    "id": "b48268d4"
   },
   "outputs": [
    {
     "name": "stdout",
     "output_type": "stream",
     "text": [
      "['welcome', 'to', 'te3007'] [3314, 4, 0]\n"
     ]
    }
   ],
   "source": [
    "# Test tokenization by applying the tokenizer to a sample sentence\n",
    "tokens = tokeniser('Welcome to TE3007')\n",
    "\n",
    "# Print the list of tokens and their corresponding indices in the vocabulary\n",
    "print(tokens, vocab(tokens))"
   ]
  },
  {
   "cell_type": "code",
   "execution_count": 81,
   "id": "c8c8f6a6",
   "metadata": {
    "id": "c8c8f6a6"
   },
   "outputs": [],
   "source": [
    "# Calculate the number of samples for training, using 90% of the training dataset\n",
    "NUM_TRAIN = int(len(train_dataset) * 0.9)\n",
    "\n",
    "# Calculate the number of samples for validation as the remaining 10% of the training dataset\n",
    "NUM_VAL = len(train_dataset) - NUM_TRAIN"
   ]
  },
  {
   "cell_type": "code",
   "execution_count": 82,
   "id": "8290895e",
   "metadata": {
    "id": "8290895e"
   },
   "outputs": [],
   "source": [
    "# Split the training dataset into two subsets: training and validation\n",
    "# The split sizes are specified by NUM_TRAIN and NUM_VAL, calculated previously\n",
    "train_dataset, val_dataset = random_split(train_dataset, [NUM_TRAIN, NUM_VAL])"
   ]
  },
  {
   "cell_type": "code",
   "execution_count": 83,
   "id": "cbc75b54",
   "metadata": {
    "id": "cbc75b54"
   },
   "outputs": [
    {
     "name": "stdout",
     "output_type": "stream",
     "text": [
      "Training set size: 108000\n",
      "Validation set size: 12000\n",
      "Test set size: 7600\n"
     ]
    }
   ],
   "source": [
    "print(f\"Training set size: {len(train_dataset)}\")\n",
    "print(f\"Validation set size: {len(val_dataset)}\")\n",
    "print(f\"Test set size: {len(test_dataset)}\")"
   ]
  },
  {
   "cell_type": "code",
   "execution_count": 84,
   "id": "5eb459c7",
   "metadata": {
    "id": "5eb459c7"
   },
   "outputs": [],
   "source": [
    "# Define the labels for the dataset classes\n",
    "# These represent the categories: World, Sports, Business, and Science/Technology\n",
    "labels = [\"World\", \"Sports\", \"Business\", \"Sci/Tech\"]\n",
    "\n",
    "# Set the maximum number of tokens (max_tokens) to 50\n",
    "# Text sequences will be padded or truncated to this length\n",
    "max_tokens = 50\n",
    "\n",
    "# Define the batch size for data loading\n",
    "# Each batch will contain 256 samples\n",
    "BATCH_SIZE = 256"
   ]
  },
  {
   "cell_type": "code",
   "execution_count": 85,
   "id": "ffdbf077",
   "metadata": {
    "id": "ffdbf077"
   },
   "outputs": [],
   "source": [
    "def collate_batch(batch):\n",
    "    # Separate labels (y) and text (x) from the batch by unpacking\n",
    "    y, x = list(zip(*batch))\n",
    "\n",
    "    # Tokenize each text sample in the batch and convert to indices using the vocabulary\n",
    "    x = [vocab(tokeniser(text)) for text in x]\n",
    "\n",
    "    # Pad each tokenized text to a fixed length (max_tokens) or truncate if it exceeds max_tokens\n",
    "    x = [t + ([0] * (max_tokens - len(t))) if len(t) < max_tokens else t[:max_tokens] for t in x]\n",
    "\n",
    "    # Convert the processed text and adjusted labels to tensors, making sure y is of type Long\n",
    "    return torch.tensor(x, dtype=torch.int32), torch.tensor(y, dtype=torch.long) - 1\n",
    "\n"
   ]
  },
  {
   "cell_type": "code",
   "execution_count": 86,
   "id": "0a55e6ee",
   "metadata": {
    "id": "0a55e6ee"
   },
   "outputs": [],
   "source": [
    "train_loader = DataLoader(train_dataset, batch_size=BATCH_SIZE, collate_fn=collate_batch, shuffle = True)\n",
    "val_loader = DataLoader(val_dataset, batch_size=BATCH_SIZE, collate_fn=collate_batch, shuffle = True)\n",
    "test_loader = DataLoader(test_dataset, batch_size=BATCH_SIZE, collate_fn=collate_batch, shuffle = True)"
   ]
  },
  {
   "cell_type": "markdown",
   "id": "47b98898",
   "metadata": {
    "id": "47b98898"
   },
   "source": [
    "# Model Setup and Training\n",
    "\n",
    "An overview of key steps to configure and train a text classification model.\n",
    "\n",
    "## Steps\n",
    "\n",
    "1. **Set Parameters**: Define embedding size, number of neurons, layers, and output classes.\n",
    "2. **Define Model**: Create an RNN model with an embedding layer, an LSTM layer, and an output layer for classification.\n",
    "3. **Accuracy Function**: Write a function to calculate model accuracy on any dataset.\n",
    "4. **Training Function**: Define a function to train the model over multiple epochs, track loss, and update weights.\n",
    "5. **Configure Training**: Set number of epochs and learning rate.\n",
    "6. **Instantiate and Train**: Create the model, set up the optimizer, and start training.\n"
   ]
  },
  {
   "cell_type": "code",
   "execution_count": 87,
   "id": "50f20793",
   "metadata": {
    "id": "50f20793"
   },
   "outputs": [],
   "source": [
    "# Set the embedding size for the input layer\n",
    "# EMBEDDING_SIZE defines the dimensionality of the word embeddings for each token\n",
    "EMBEDDING_SIZE = 100\n",
    "\n",
    "# Define the number of neurons for each layer in the neural network\n",
    "# NEURONS determines the size of the hidden layer(s) in the model\n",
    "NEURONS = 128\n",
    "\n",
    "# Specify the number of layers in the model\n",
    "# LAYERS represents the number of hidden layers in the network\n",
    "LAYERS = 2\n",
    "\n",
    "# Set the number of output classes for the model\n",
    "# NUM_CLASSES corresponds to the number of categories in the classification task (e.g., 4 for \"World,\" \"Sports,\" \"Business,\" \"Sci/Tech\")\n",
    "NUM_CLASSES = 4"
   ]
  },
  {
   "cell_type": "code",
   "execution_count": 88,
   "id": "0f7f5621",
   "metadata": {
    "id": "0f7f5621"
   },
   "outputs": [],
   "source": [
    "# Define the RNN-based model class\n",
    "class RNN_Model_1(nn.Module):\n",
    "    def __init__(self, embed_size, hidden, layers, num_classes):\n",
    "        # Initialize the superclass (nn.Module)\n",
    "        super().__init__()\n",
    "\n",
    "        # Define the embedding layer\n",
    "        # Converts token indices into dense vectors of dimension 'embed_size'\n",
    "        self.embedding_layer = nn.Embedding(num_embeddings=len(vocab),\n",
    "                                            embedding_dim=embed_size)\n",
    "\n",
    "        # Define the recurrent layer (LSTM in this case, could also be RNN or GRU)\n",
    "        # LSTM layer processes the sequence with 'embed_size' inputs and outputs 'hidden' features per time step\n",
    "        self.rnn = nn.LSTM(input_size=embed_size,\n",
    "                           hidden_size=hidden,\n",
    "                           num_layers=layers,\n",
    "                           batch_first=True)  # batch_first=True makes batch size the first dimension\n",
    "\n",
    "        # Define a fully connected layer for classification\n",
    "        # Maps the hidden state output to the number of classes\n",
    "        self.fc = nn.Linear(hidden, num_classes)\n",
    "\n",
    "    def forward(self, x):\n",
    "        # x is a tensor of shape (batch_size, seq_length)\n",
    "\n",
    "        # Apply the embedding layer to convert indices to dense vectors\n",
    "        x = self.embedding_layer(x)  # Output shape: (batch_size, seq_length, embed_size)\n",
    "\n",
    "        # Apply the RNN layer to process the embedded sequence\n",
    "        # 'out' contains the output features for each time step, '_ ' contains hidden and cell states\n",
    "        out, _ = self.rnn(x)  # Output shape: (batch_size, seq_length, hidden)\n",
    "\n",
    "        # Select the output from the last time step for classification purposes\n",
    "        out = out[:, -1, :]  # Shape: (batch_size, hidden)\n",
    "\n",
    "        # Pass through the fully connected layer to produce the final output\n",
    "        out = self.fc(out)  # Shape: (batch_size, num_classes)\n",
    "\n",
    "        return out\n"
   ]
  },
  {
   "cell_type": "code",
   "execution_count": 89,
   "id": "2a42613f",
   "metadata": {
    "code_folding": [],
    "id": "2a42613f"
   },
   "outputs": [],
   "source": [
    "# Define a function to calculate the accuracy of the model on a given data loader\n",
    "def accuracy(model, loader):\n",
    "    model.eval()  # Set the model to evaluation mode to disable dropout/batch norm layers\n",
    "    correct = 0   # Counter for correct predictions\n",
    "    total = 0     # Counter for total samples\n",
    "\n",
    "    with torch.no_grad():  # Disable gradient calculation for faster evaluation\n",
    "        for x, y in loader:\n",
    "            # Move data to the specified device (e.g., GPU if available)\n",
    "            x, y = x.to(device), y.to(device)\n",
    "\n",
    "            # Perform a forward pass through the model to get predictions\n",
    "            outputs = model(x)\n",
    "\n",
    "            # Find the predicted class by taking the index of the maximum logit along dimension 1\n",
    "            _, predicted = torch.max(outputs, 1)\n",
    "\n",
    "            # Update correct predictions count by comparing predicted and true labels\n",
    "            correct += (predicted == y).sum().item()\n",
    "\n",
    "            # Update the total count with the batch size\n",
    "            total += y.size(0)\n",
    "\n",
    "    # Calculate accuracy as a percentage\n",
    "    accuracy = 100 * correct / total\n",
    "    return accuracy  # Return the calculated accuracy\n"
   ]
  },
  {
   "cell_type": "code",
   "execution_count": 90,
   "id": "5e843e1f",
   "metadata": {
    "code_folding": [],
    "id": "5e843e1f"
   },
   "outputs": [],
   "source": [
    "# Define the training function for the model\n",
    "def train(model, optimiser, train_loader, val_loader, criterion, epochs=100):\n",
    "    for epoch in range(epochs):\n",
    "        model.train()  # Set the model to training mode to enable dropout/batch norm layers\n",
    "        running_loss = 0.0  # Accumulate loss for averaging over each epoch\n",
    "\n",
    "        # Iterate over each batch in the training loader\n",
    "        for x, y in train_loader:\n",
    "            # Move data to the specified device (e.g., GPU if available)\n",
    "            x, y = x.to(device), y.to(device)\n",
    "\n",
    "            # Zero the gradients to prevent accumulation from previous steps\n",
    "            optimiser.zero_grad()\n",
    "\n",
    "            # Forward pass: compute predictions\n",
    "            outputs = model(x)\n",
    "            loss = criterion(outputs, y)  # Compute loss between predictions and true labels\n",
    "\n",
    "            # Backward pass: compute gradients of loss with respect to model parameters\n",
    "            loss.backward()\n",
    "            optimiser.step()  # Update model parameters based on gradients\n",
    "\n",
    "            # Accumulate loss for the epoch, adjusting by batch size\n",
    "            running_loss += loss.item() * x.size(0)\n",
    "\n",
    "        # Calculate the average loss for the epoch by dividing by total training samples\n",
    "        epoch_loss = running_loss / len(train_loader.dataset)\n",
    "\n",
    "        # Evaluate the model's accuracy on training and validation sets\n",
    "        train_acc = accuracy(model, train_loader)\n",
    "        val_acc = accuracy(model, val_loader)\n",
    "\n",
    "        # Print epoch details: epoch number, loss, and accuracies for training and validation sets\n",
    "        print(f\"Epoch [{epoch + 1}/{epochs}] - Loss: {epoch_loss:.4f} - Training Accuracy: {train_acc:.2f}% - Validation Accuracy: {val_acc:.2f}%\")\n"
   ]
  },
  {
   "cell_type": "code",
   "execution_count": 91,
   "id": "87775b29",
   "metadata": {
    "id": "87775b29"
   },
   "outputs": [],
   "source": [
    "# Define training parameters\n",
    "epochs = 10  # Number of epochs for training; increase if more training is needed\n",
    "lr = 0.001   # Learning rate for the optimizer, controls the step size during weight updates\n",
    "\n",
    "# Instantiate the model with specified embedding size, neurons, layers, and number of classes\n",
    "# Move the model to the specified device (e.g., GPU if available)\n",
    "rnn_model = RNN_Model_1(EMBEDDING_SIZE, NEURONS, LAYERS, NUM_CLASSES).to(device)\n",
    "\n",
    "# Set up the optimizer with model parameters and defined learning rate\n",
    "# Adam optimizer is used for its adaptive learning rate and efficiency in handling sparse gradients\n",
    "optimiser = torch.optim.Adam(rnn_model.parameters(), lr=lr)"
   ]
  },
  {
   "cell_type": "code",
   "execution_count": 92,
   "id": "aec12a1b",
   "metadata": {
    "id": "aec12a1b",
    "scrolled": true
   },
   "outputs": [
    {
     "name": "stdout",
     "output_type": "stream",
     "text": [
      "Epoch [1/10] - Loss: 0.7764 - Training Accuracy: 85.25% - Validation Accuracy: 84.40%\n",
      "Epoch [2/10] - Loss: 0.3585 - Training Accuracy: 91.12% - Validation Accuracy: 88.85%\n",
      "Epoch [3/10] - Loss: 0.2651 - Training Accuracy: 92.51% - Validation Accuracy: 89.50%\n",
      "Epoch [4/10] - Loss: 0.2158 - Training Accuracy: 93.95% - Validation Accuracy: 89.85%\n",
      "Epoch [5/10] - Loss: 0.1759 - Training Accuracy: 95.56% - Validation Accuracy: 90.51%\n",
      "Epoch [6/10] - Loss: 0.1450 - Training Accuracy: 96.56% - Validation Accuracy: 90.78%\n",
      "Epoch [7/10] - Loss: 0.1200 - Training Accuracy: 97.20% - Validation Accuracy: 90.69%\n",
      "Epoch [8/10] - Loss: 0.0993 - Training Accuracy: 97.79% - Validation Accuracy: 90.62%\n",
      "Epoch [9/10] - Loss: 0.0813 - Training Accuracy: 97.62% - Validation Accuracy: 90.33%\n",
      "Epoch [10/10] - Loss: 0.0681 - Training Accuracy: 98.58% - Validation Accuracy: 90.43%\n"
     ]
    }
   ],
   "source": [
    "# Train the model using the specified training function\n",
    "# Pass the following arguments:\n",
    "# - rnn_model: the neural network model to train\n",
    "# - optimiser: the optimizer used to update the model's weights\n",
    "# - train_loader: DataLoader for the training dataset\n",
    "# - val_loader: DataLoader for the validation dataset\n",
    "# - criterion: the loss function, in this case, CrossEntropyLoss for multi-class classification\n",
    "# - epochs: the number of training epochs to run\n",
    "train(rnn_model, optimiser, train_loader, val_loader, criterion=nn.CrossEntropyLoss(), epochs=epochs)"
   ]
  },
  {
   "cell_type": "markdown",
   "id": "25884b3d",
   "metadata": {},
   "source": [
    "# Model Evaluation and Prediction\n",
    "\n",
    "This section covers steps for evaluating the trained model, making predictions, and visualizing results.\n",
    "\n",
    "## Steps\n",
    "\n",
    "1. **Test Set Accuracy**: Print the model’s accuracy on the test dataset for a quick performance check.\n",
    "\n",
    "2. **Text Prediction**: Define a function to predict the label of a new text sample. This function:\n",
    "   - Tokenizes and encodes the input text.\n",
    "   - Pads or truncates it to the maximum length.\n",
    "   - Passes it through the model in evaluation mode to return a predicted label.\n",
    "\n",
    "3. **Sample Prediction**: Test the prediction function with a sample text from the dataset and print the result.\n",
    "\n",
    "4. **Confusion Matrix Plotting**: Define a function to create a confusion matrix, which provides a detailed view of the model’s classification performance.\n",
    "   - The function calculates predictions on the test set.\n",
    "   - Uses a heatmap to visualize how well the model differentiates between each class.\n",
    "\n",
    "5. **Display Confusion Matrix**: Call the function to plot and display the confusion matrix for the test dataset.\n",
    "\n",
    "This setup provides insights into model accuracy, prediction capabilities, and classification performance across different categories.\n"
   ]
  },
  {
   "cell_type": "code",
   "execution_count": 94,
   "id": "7a3ef175",
   "metadata": {
    "id": "7a3ef175"
   },
   "outputs": [
    {
     "name": "stdout",
     "output_type": "stream",
     "text": [
      "90.5395\n"
     ]
    }
   ],
   "source": [
    "# Print the accuracy of the trained model on the test dataset\n",
    "# - accuracy(rnn_model, test_loader): calculates the model's accuracy on the test data\n",
    "# - :.4f formats the accuracy to four decimal places for readability\n",
    "print(f'{accuracy(rnn_model, test_loader):.4f}'"
   ]
  },
  {
   "cell_type": "code",
   "execution_count": 95,
   "id": "ed30693d",
   "metadata": {
    "id": "ed30693d"
   },
   "outputs": [],
   "source": [
    "# Function to predict the label of a given text sample using the trained model\n",
    "def sample_text(model, text):\n",
    "    model.eval()  # Set the model to evaluation mode to disable dropout/batch norm layers\n",
    "\n",
    "    # Tokenize and encode the input text using the tokenizer and vocabulary\n",
    "    tokens = tokeniser(text)\n",
    "    token_ids = vocab(tokens)\n",
    "\n",
    "    # Pad or truncate the tokenized text to the maximum length (max_tokens)\n",
    "    token_ids = token_ids[:max_tokens] + [0] * (max_tokens - len(token_ids))\n",
    "\n",
    "    # Convert the list of token IDs to a tensor and move it to the specified device\n",
    "    input_tensor = torch.tensor([token_ids], dtype=torch.int32).to(device)\n",
    "\n",
    "    with torch.no_grad():  # Disable gradient calculations for inference\n",
    "        # Perform a forward pass through the model to get predictions\n",
    "        output = model(input_tensor)\n",
    "        # Get the predicted class by finding the index with the highest score\n",
    "        _, predicted_class = torch.max(output, 1)\n",
    "\n",
    "    # Map the predicted class index to the corresponding label\n",
    "    predicted_label = labels[predicted_class.item()]\n",
    "    return predicted_label  # Return the predicted label for the input text\n"
   ]
  },
  {
   "cell_type": "code",
   "execution_count": 96,
   "id": "534f0220",
   "metadata": {
    "id": "534f0220"
   },
   "outputs": [
    {
     "name": "stdout",
     "output_type": "stream",
     "text": [
      "Sample text:\n",
      " Wall St. Bears Claw Back Into the Black (Reuters) Reuters - Short-sellers, Wall Street's dwindling\\band of ultra-cynics, are seeing green again. \n",
      "Predicted Label: Business\n"
     ]
    }
   ],
   "source": [
    "\n",
    "# Create an iterator over the AG_NEWS training dataset\n",
    "train_iter = iter(AG_NEWS(split='train'))\n",
    "\n",
    "# Get the next item from the iterator, which returns a label and a sample text\n",
    "label, sampleTxt = next(train_iter)\n",
    "\n",
    "# Print the sample text and the predicted label using the sample_text function\n",
    "# sample_text(rnn_model, sampleTxt) predicts the label for the given sample text\n",
    "print(\"Sample text:\\n\", sampleTxt, \"\\nPredicted Label:\", sample_text(rnn_model, sampleTxt))\n"
   ]
  },
  {
   "cell_type": "code",
   "execution_count": 101,
   "id": "bb38e093",
   "metadata": {
    "id": "bb38e093"
   },
   "outputs": [],
   "source": [
    "# Import necessary libraries\n",
    "from sklearn.metrics import confusion_matrix\n",
    "import matplotlib.pyplot as plt\n",
    "import seaborn as sns\n",
    "\n",
    "# Define a function to plot the confusion matrix for a given model and dataset\n",
    "def plot_confusion_matrix(model, loader, labels):\n",
    "    model.eval()  # Set model to evaluation mode to disable dropout/batch norm layers\n",
    "    all_preds = []  # List to store all predicted labels\n",
    "    all_labels = []  # List to store all true labels\n",
    "\n",
    "    with torch.no_grad():  # Disable gradient calculations for efficiency\n",
    "        for x, y in loader:\n",
    "            # Move data to the specified device (e.g., GPU if available)\n",
    "            x, y = x.to(device), y.to(device)\n",
    "\n",
    "            # Get model predictions\n",
    "            outputs = model(x)\n",
    "            _, predicted = torch.max(outputs, 1)  # Get the predicted class index\n",
    "\n",
    "            # Store the predictions and actual labels as numpy arrays (on CPU)\n",
    "            all_preds.extend(predicted.cpu().numpy())\n",
    "            all_labels.extend(y.cpu().numpy())\n",
    "\n",
    "    # Compute the confusion matrix using true and predicted labels\n",
    "    cm = confusion_matrix(all_labels, all_preds)\n",
    "\n",
    "    # Plot the confusion matrix using seaborn's heatmap\n",
    "    plt.figure(figsize=(8, 6))  # Set the figure size\n",
    "    sns.heatmap(cm, annot=True, fmt=\"d\", cmap=\"Blues\", xticklabels=labels, yticklabels=labels)\n",
    "    plt.xlabel(\"Predicted Label\")  # Label the x-axis\n",
    "    plt.ylabel(\"True Label\")       # Label the y-axis\n",
    "    plt.title(\"Confusion Matrix\")  # Set the plot title\n",
    "    plt.show()  # Display the plot\n"
   ]
  },
  {
   "cell_type": "code",
   "execution_count": 103,
   "id": "nw2CyJ_xKQ85",
   "metadata": {
    "id": "nw2CyJ_xKQ85"
   },
   "outputs": [
    {
     "data": {
      "image/png": "[encoded data removed]",
      "text/plain": [
       "<Figure size 800x600 with 2 Axes>"
      ]
     },
     "metadata": {},
     "output_type": "display_data"
    }
   ],
   "source": [
    "# Call the plot_confusion_matrix function to visualize the confusion matrix\n",
    "# Arguments:\n",
    "# - rnn_model: the trained model to evaluate\n",
    "# - test_loader: DataLoader for the test dataset\n",
    "# - labels: list of class labels to display on the matrix axes\n",
    "plot_confusion_matrix(rnn_model, test_loader, labels=[\"World\", \"Sports\", \"Business\", \"Sci/Tech\"])\n"
   ]
  }
 ],
 "metadata": {
  "colab": {
   "provenance": []
  },
  "kernelspec": {
   "display_name": "Python 3 (ipykernel)",
   "language": "python",
   "name": "python3"
  },
  "language_info": {
   "codemirror_mode": {
    "name": "ipython",
    "version": 3
   },
   "file_extension": ".py",
   "mimetype": "text/x-python",
   "name": "python",
   "nbconvert_exporter": "python",
   "pygments_lexer": "ipython3",
   "version": "3.11.5"
  },
  "varInspector": {
   "cols": {
    "lenName": 16,
    "lenType": 16,
    "lenVar": 40
   },
   "kernels_config": {
    "python": {
     "delete_cmd_postfix": "",
     "delete_cmd_prefix": "del ",
     "library": "var_list.py",
     "varRefreshCmd": "print(var_dic_list())"
    },
    "r": {
     "delete_cmd_postfix": ") ",
     "delete_cmd_prefix": "rm(",
     "library": "var_list.r",
     "varRefreshCmd": "cat(var_dic_list()) "
    }
   },
   "types_to_exclude": [
    "module",
    "function",
    "builtin_function_or_method",
    "instance",
    "_Feature"
   ],
   "window_display": false
  }
 },
 "nbformat": 4,
 "nbformat_minor": 5
}
